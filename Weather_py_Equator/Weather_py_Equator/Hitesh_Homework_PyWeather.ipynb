{
 "cells": [
  {
   "cell_type": "markdown",
   "metadata": {},
   "source": [
    "## Analysis\n",
    "\n",
    "#### 1. Closer the city is to Equator, more the temperature is\n",
    "\n",
    "#### 2. Away the city is from the Equator, more are the wind speeds."
   ]
  },
  {
   "cell_type": "code",
   "execution_count": 90,
   "metadata": {},
   "outputs": [],
   "source": [
    "import json\n",
    "import numpy as np\n",
    "import pandas as pd\n",
    "import matplotlib.pyplot as plt\n",
    "import requests\n",
    "from citipy import citipy\n",
    "import openweathermapy as own"
   ]
  },
  {
   "cell_type": "code",
   "execution_count": 64,
   "metadata": {},
   "outputs": [],
   "source": [
    "api_key = \"25bc90a1196e6f153eece0bc0b0fc9eb\"\n",
    "\n",
    "# Generating random latitudes and longitudes\n",
    "lat = np.random.uniform(low=-90, high=90, size=2000)\n",
    "lng = np.random.uniform(low=-180, high=180, size=2000)\n",
    "\n",
    "coordinates = []\n",
    "for x in range(0,len(lat)):\n",
    "    coordinates.append((lat[x], lng[x]))\n",
    "# Finding the cities \n",
    "cities = []\n",
    "for coordinate_pair in coordinates:\n",
    "    lat, lon = coordinate_pair\n",
    "    cities.append(citipy.nearest_city(lat, lon))\n",
    "\n"
   ]
  },
  {
   "cell_type": "code",
   "execution_count": 65,
   "metadata": {},
   "outputs": [],
   "source": [
    "# Creating DataFrame\n",
    "cities_df = pd.DataFrame(cities)\n",
    "cities_df[\"City Name\"] = \"\"\n",
    "cities_df[\"Country Code\"] = \"\"\n",
    "\n",
    "for index, row in cities_df.iterrows():\n",
    "    row[\"City Name\"] = cities_df.iloc[index,0].city_name\n",
    "    row[\"Country Code\"] = cities_df.iloc[index,0].country_code"
   ]
  },
  {
   "cell_type": "code",
   "execution_count": 66,
   "metadata": {},
   "outputs": [
    {
     "data": {
      "text/html": [
       "<div>\n",
       "<style scoped>\n",
       "    .dataframe tbody tr th:only-of-type {\n",
       "        vertical-align: middle;\n",
       "    }\n",
       "\n",
       "    .dataframe tbody tr th {\n",
       "        vertical-align: top;\n",
       "    }\n",
       "\n",
       "    .dataframe thead th {\n",
       "        text-align: right;\n",
       "    }\n",
       "</style>\n",
       "<table border=\"1\" class=\"dataframe\">\n",
       "  <thead>\n",
       "    <tr style=\"text-align: right;\">\n",
       "      <th></th>\n",
       "      <th>City Name</th>\n",
       "      <th>Country Code</th>\n",
       "    </tr>\n",
       "  </thead>\n",
       "  <tbody>\n",
       "    <tr>\n",
       "      <th>0</th>\n",
       "      <td>nikolskoye</td>\n",
       "      <td>ru</td>\n",
       "    </tr>\n",
       "    <tr>\n",
       "      <th>1</th>\n",
       "      <td>bredasdorp</td>\n",
       "      <td>za</td>\n",
       "    </tr>\n",
       "    <tr>\n",
       "      <th>2</th>\n",
       "      <td>taolanaro</td>\n",
       "      <td>mg</td>\n",
       "    </tr>\n",
       "    <tr>\n",
       "      <th>3</th>\n",
       "      <td>quatre cocos</td>\n",
       "      <td>mu</td>\n",
       "    </tr>\n",
       "    <tr>\n",
       "      <th>4</th>\n",
       "      <td>ankang</td>\n",
       "      <td>cn</td>\n",
       "    </tr>\n",
       "  </tbody>\n",
       "</table>\n",
       "</div>"
      ],
      "text/plain": [
       "      City Name Country Code\n",
       "0    nikolskoye           ru\n",
       "1    bredasdorp           za\n",
       "2     taolanaro           mg\n",
       "3  quatre cocos           mu\n",
       "4        ankang           cn"
      ]
     },
     "execution_count": 66,
     "metadata": {},
     "output_type": "execute_result"
    }
   ],
   "source": [
    "# Dropping duplicate cities\n",
    "cities_df.drop_duplicates(['City Name', 'Country Code'], inplace=True)\n",
    "cities_df.reset_index(inplace=True)\n",
    "\n",
    "# Deleting unnecessary columns\n",
    "del cities_df[0]\n",
    "del cities_df['index']\n",
    "\n",
    "cities_df.head()"
   ]
  },
  {
   "cell_type": "code",
   "execution_count": 67,
   "metadata": {},
   "outputs": [
    {
     "data": {
      "text/html": [
       "<div>\n",
       "<style scoped>\n",
       "    .dataframe tbody tr th:only-of-type {\n",
       "        vertical-align: middle;\n",
       "    }\n",
       "\n",
       "    .dataframe tbody tr th {\n",
       "        vertical-align: top;\n",
       "    }\n",
       "\n",
       "    .dataframe thead th {\n",
       "        text-align: right;\n",
       "    }\n",
       "</style>\n",
       "<table border=\"1\" class=\"dataframe\">\n",
       "  <thead>\n",
       "    <tr style=\"text-align: right;\">\n",
       "      <th></th>\n",
       "      <th>City Name</th>\n",
       "      <th>Country Code</th>\n",
       "      <th>Latitude</th>\n",
       "      <th>Longitude</th>\n",
       "      <th>Temperature (F)</th>\n",
       "      <th>Humidity (%)</th>\n",
       "      <th>Cloudiness (%)</th>\n",
       "      <th>Wind Speed (mph)</th>\n",
       "    </tr>\n",
       "  </thead>\n",
       "  <tbody>\n",
       "    <tr>\n",
       "      <th>0</th>\n",
       "      <td>nikolskoye</td>\n",
       "      <td>ru</td>\n",
       "      <td></td>\n",
       "      <td></td>\n",
       "      <td></td>\n",
       "      <td></td>\n",
       "      <td></td>\n",
       "      <td></td>\n",
       "    </tr>\n",
       "    <tr>\n",
       "      <th>1</th>\n",
       "      <td>bredasdorp</td>\n",
       "      <td>za</td>\n",
       "      <td></td>\n",
       "      <td></td>\n",
       "      <td></td>\n",
       "      <td></td>\n",
       "      <td></td>\n",
       "      <td></td>\n",
       "    </tr>\n",
       "    <tr>\n",
       "      <th>2</th>\n",
       "      <td>taolanaro</td>\n",
       "      <td>mg</td>\n",
       "      <td></td>\n",
       "      <td></td>\n",
       "      <td></td>\n",
       "      <td></td>\n",
       "      <td></td>\n",
       "      <td></td>\n",
       "    </tr>\n",
       "    <tr>\n",
       "      <th>3</th>\n",
       "      <td>quatre cocos</td>\n",
       "      <td>mu</td>\n",
       "      <td></td>\n",
       "      <td></td>\n",
       "      <td></td>\n",
       "      <td></td>\n",
       "      <td></td>\n",
       "      <td></td>\n",
       "    </tr>\n",
       "    <tr>\n",
       "      <th>4</th>\n",
       "      <td>ankang</td>\n",
       "      <td>cn</td>\n",
       "      <td></td>\n",
       "      <td></td>\n",
       "      <td></td>\n",
       "      <td></td>\n",
       "      <td></td>\n",
       "      <td></td>\n",
       "    </tr>\n",
       "  </tbody>\n",
       "</table>\n",
       "</div>"
      ],
      "text/plain": [
       "      City Name Country Code Latitude Longitude Temperature (F) Humidity (%)  \\\n",
       "0    nikolskoye           ru                                                   \n",
       "1    bredasdorp           za                                                   \n",
       "2     taolanaro           mg                                                   \n",
       "3  quatre cocos           mu                                                   \n",
       "4        ankang           cn                                                   \n",
       "\n",
       "  Cloudiness (%) Wind Speed (mph)  \n",
       "0                                  \n",
       "1                                  \n",
       "2                                  \n",
       "3                                  \n",
       "4                                  "
      ]
     },
     "execution_count": 67,
     "metadata": {},
     "output_type": "execute_result"
    }
   ],
   "source": [
    "# Adding columns for values\n",
    "cities_df['Latitude'] = \"\"\n",
    "cities_df['Longitude'] = \"\"\n",
    "cities_df['Temperature (F)'] = \"\"\n",
    "cities_df['Humidity (%)'] = \"\"\n",
    "cities_df['Cloudiness (%)'] = \"\"\n",
    "cities_df['Wind Speed (mph)'] = \"\"\n",
    "\n",
    "cities_df.head()"
   ]
  },
  {
   "cell_type": "code",
   "execution_count": 68,
   "metadata": {},
   "outputs": [
    {
     "name": "stdout",
     "output_type": "stream",
     "text": [
      "London: 25.32, 73\n"
     ]
    }
   ],
   "source": [
    "# Extract latitude and longitude\n",
    "lat = weather_data[\"coord\"][\"lat\"]\n",
    "lng = weather_data[\"coord\"][\"lon\"]\n",
    "\n",
    "# Print the latitude and longitude\n",
    "print(\"%s: %s, %s\" % (city, lat, lng))"
   ]
  },
  {
   "cell_type": "code",
   "execution_count": 69,
   "metadata": {},
   "outputs": [
    {
     "name": "stdout",
     "output_type": "stream",
     "text": [
      "Now retrieving City #0: nikolskoye, ru\n",
      "http://api.openweathermap.org/data/2.5/weather?q=nikolskoye,ru&units=imperial&appid=25bc90a1196e6f153eece0bc0b0fc9eb\n",
      "Now retrieving City #1: bredasdorp, za\n",
      "http://api.openweathermap.org/data/2.5/weather?q=bredasdorp,za&units=imperial&appid=25bc90a1196e6f153eece0bc0b0fc9eb\n",
      "Now retrieving City #2: taolanaro, mg\n",
      "http://api.openweathermap.org/data/2.5/weather?q=taolanaro,mg&units=imperial&appid=25bc90a1196e6f153eece0bc0b0fc9eb\n",
      "Error with city data. Skipping\n",
      "Now retrieving City #3: quatre cocos, mu\n",
      "http://api.openweathermap.org/data/2.5/weather?q=quatre cocos,mu&units=imperial&appid=25bc90a1196e6f153eece0bc0b0fc9eb\n",
      "Now retrieving City #4: ankang, cn\n",
      "http://api.openweathermap.org/data/2.5/weather?q=ankang,cn&units=imperial&appid=25bc90a1196e6f153eece0bc0b0fc9eb\n",
      "Now retrieving City #5: linfen, cn\n",
      "http://api.openweathermap.org/data/2.5/weather?q=linfen,cn&units=imperial&appid=25bc90a1196e6f153eece0bc0b0fc9eb\n",
      "Now retrieving City #6: touros, br\n",
      "http://api.openweathermap.org/data/2.5/weather?q=touros,br&units=imperial&appid=25bc90a1196e6f153eece0bc0b0fc9eb\n",
      "Now retrieving City #7: khatanga, ru\n",
      "http://api.openweathermap.org/data/2.5/weather?q=khatanga,ru&units=imperial&appid=25bc90a1196e6f153eece0bc0b0fc9eb\n",
      "Now retrieving City #8: kapaa, us\n",
      "http://api.openweathermap.org/data/2.5/weather?q=kapaa,us&units=imperial&appid=25bc90a1196e6f153eece0bc0b0fc9eb\n",
      "Now retrieving City #9: tuktoyaktuk, ca\n",
      "http://api.openweathermap.org/data/2.5/weather?q=tuktoyaktuk,ca&units=imperial&appid=25bc90a1196e6f153eece0bc0b0fc9eb\n",
      "Now retrieving City #10: atuona, pf\n",
      "http://api.openweathermap.org/data/2.5/weather?q=atuona,pf&units=imperial&appid=25bc90a1196e6f153eece0bc0b0fc9eb\n",
      "Now retrieving City #11: acapulco, mx\n",
      "http://api.openweathermap.org/data/2.5/weather?q=acapulco,mx&units=imperial&appid=25bc90a1196e6f153eece0bc0b0fc9eb\n",
      "Now retrieving City #12: padang, id\n",
      "http://api.openweathermap.org/data/2.5/weather?q=padang,id&units=imperial&appid=25bc90a1196e6f153eece0bc0b0fc9eb\n",
      "Now retrieving City #13: mataura, pf\n",
      "http://api.openweathermap.org/data/2.5/weather?q=mataura,pf&units=imperial&appid=25bc90a1196e6f153eece0bc0b0fc9eb\n",
      "Error with city data. Skipping\n",
      "Now retrieving City #14: new norfolk, au\n",
      "http://api.openweathermap.org/data/2.5/weather?q=new norfolk,au&units=imperial&appid=25bc90a1196e6f153eece0bc0b0fc9eb\n",
      "Now retrieving City #15: sitka, us\n",
      "http://api.openweathermap.org/data/2.5/weather?q=sitka,us&units=imperial&appid=25bc90a1196e6f153eece0bc0b0fc9eb\n",
      "Now retrieving City #16: busselton, au\n",
      "http://api.openweathermap.org/data/2.5/weather?q=busselton,au&units=imperial&appid=25bc90a1196e6f153eece0bc0b0fc9eb\n",
      "Now retrieving City #17: sinnamary, gf\n",
      "http://api.openweathermap.org/data/2.5/weather?q=sinnamary,gf&units=imperial&appid=25bc90a1196e6f153eece0bc0b0fc9eb\n",
      "Now retrieving City #18: mamontovo, ru\n",
      "http://api.openweathermap.org/data/2.5/weather?q=mamontovo,ru&units=imperial&appid=25bc90a1196e6f153eece0bc0b0fc9eb\n",
      "Now retrieving City #19: tasiilaq, gl\n",
      "http://api.openweathermap.org/data/2.5/weather?q=tasiilaq,gl&units=imperial&appid=25bc90a1196e6f153eece0bc0b0fc9eb\n",
      "Now retrieving City #20: sept-iles, ca\n",
      "http://api.openweathermap.org/data/2.5/weather?q=sept-iles,ca&units=imperial&appid=25bc90a1196e6f153eece0bc0b0fc9eb\n",
      "Now retrieving City #21: rocha, uy\n",
      "http://api.openweathermap.org/data/2.5/weather?q=rocha,uy&units=imperial&appid=25bc90a1196e6f153eece0bc0b0fc9eb\n",
      "Now retrieving City #22: iranshahr, ir\n",
      "http://api.openweathermap.org/data/2.5/weather?q=iranshahr,ir&units=imperial&appid=25bc90a1196e6f153eece0bc0b0fc9eb\n",
      "Now retrieving City #23: albany, au\n",
      "http://api.openweathermap.org/data/2.5/weather?q=albany,au&units=imperial&appid=25bc90a1196e6f153eece0bc0b0fc9eb\n",
      "Now retrieving City #24: neyshabur, ir\n",
      "http://api.openweathermap.org/data/2.5/weather?q=neyshabur,ir&units=imperial&appid=25bc90a1196e6f153eece0bc0b0fc9eb\n",
      "Now retrieving City #25: matara, lk\n",
      "http://api.openweathermap.org/data/2.5/weather?q=matara,lk&units=imperial&appid=25bc90a1196e6f153eece0bc0b0fc9eb\n",
      "Now retrieving City #26: puerto ayora, ec\n",
      "http://api.openweathermap.org/data/2.5/weather?q=puerto ayora,ec&units=imperial&appid=25bc90a1196e6f153eece0bc0b0fc9eb\n",
      "Now retrieving City #27: ullal, in\n",
      "http://api.openweathermap.org/data/2.5/weather?q=ullal,in&units=imperial&appid=25bc90a1196e6f153eece0bc0b0fc9eb\n",
      "Now retrieving City #28: rikitea, pf\n",
      "http://api.openweathermap.org/data/2.5/weather?q=rikitea,pf&units=imperial&appid=25bc90a1196e6f153eece0bc0b0fc9eb\n",
      "Now retrieving City #29: camacha, pt\n",
      "http://api.openweathermap.org/data/2.5/weather?q=camacha,pt&units=imperial&appid=25bc90a1196e6f153eece0bc0b0fc9eb\n",
      "Now retrieving City #30: pangnirtung, ca\n",
      "http://api.openweathermap.org/data/2.5/weather?q=pangnirtung,ca&units=imperial&appid=25bc90a1196e6f153eece0bc0b0fc9eb\n",
      "Now retrieving City #31: boyolangu, id\n",
      "http://api.openweathermap.org/data/2.5/weather?q=boyolangu,id&units=imperial&appid=25bc90a1196e6f153eece0bc0b0fc9eb\n",
      "Now retrieving City #32: aklavik, ca\n",
      "http://api.openweathermap.org/data/2.5/weather?q=aklavik,ca&units=imperial&appid=25bc90a1196e6f153eece0bc0b0fc9eb\n",
      "Now retrieving City #33: longyearbyen, sj\n",
      "http://api.openweathermap.org/data/2.5/weather?q=longyearbyen,sj&units=imperial&appid=25bc90a1196e6f153eece0bc0b0fc9eb\n",
      "Now retrieving City #34: torbay, ca\n",
      "http://api.openweathermap.org/data/2.5/weather?q=torbay,ca&units=imperial&appid=25bc90a1196e6f153eece0bc0b0fc9eb\n",
      "Now retrieving City #35: saskylakh, ru\n",
      "http://api.openweathermap.org/data/2.5/weather?q=saskylakh,ru&units=imperial&appid=25bc90a1196e6f153eece0bc0b0fc9eb\n",
      "Now retrieving City #36: wagga wagga, au\n",
      "http://api.openweathermap.org/data/2.5/weather?q=wagga wagga,au&units=imperial&appid=25bc90a1196e6f153eece0bc0b0fc9eb\n",
      "Now retrieving City #37: caravelas, br\n",
      "http://api.openweathermap.org/data/2.5/weather?q=caravelas,br&units=imperial&appid=25bc90a1196e6f153eece0bc0b0fc9eb\n",
      "Now retrieving City #38: saint george, bm\n",
      "http://api.openweathermap.org/data/2.5/weather?q=saint george,bm&units=imperial&appid=25bc90a1196e6f153eece0bc0b0fc9eb\n",
      "Now retrieving City #39: terrace, ca\n",
      "http://api.openweathermap.org/data/2.5/weather?q=terrace,ca&units=imperial&appid=25bc90a1196e6f153eece0bc0b0fc9eb\n",
      "Now retrieving City #40: ushuaia, ar\n",
      "http://api.openweathermap.org/data/2.5/weather?q=ushuaia,ar&units=imperial&appid=25bc90a1196e6f153eece0bc0b0fc9eb\n",
      "Now retrieving City #41: jamestown, sh\n",
      "http://api.openweathermap.org/data/2.5/weather?q=jamestown,sh&units=imperial&appid=25bc90a1196e6f153eece0bc0b0fc9eb\n",
      "Now retrieving City #42: cayenne, gf\n",
      "http://api.openweathermap.org/data/2.5/weather?q=cayenne,gf&units=imperial&appid=25bc90a1196e6f153eece0bc0b0fc9eb\n",
      "Now retrieving City #43: san patricio, mx\n",
      "http://api.openweathermap.org/data/2.5/weather?q=san patricio,mx&units=imperial&appid=25bc90a1196e6f153eece0bc0b0fc9eb\n",
      "Now retrieving City #44: ahipara, nz\n",
      "http://api.openweathermap.org/data/2.5/weather?q=ahipara,nz&units=imperial&appid=25bc90a1196e6f153eece0bc0b0fc9eb\n",
      "Now retrieving City #45: hermanus, za\n",
      "http://api.openweathermap.org/data/2.5/weather?q=hermanus,za&units=imperial&appid=25bc90a1196e6f153eece0bc0b0fc9eb\n",
      "Now retrieving City #46: vaini, to\n",
      "http://api.openweathermap.org/data/2.5/weather?q=vaini,to&units=imperial&appid=25bc90a1196e6f153eece0bc0b0fc9eb\n",
      "Now retrieving City #47: butaritari, ki\n",
      "http://api.openweathermap.org/data/2.5/weather?q=butaritari,ki&units=imperial&appid=25bc90a1196e6f153eece0bc0b0fc9eb\n",
      "Now retrieving City #48: kirovohrad, ua\n",
      "http://api.openweathermap.org/data/2.5/weather?q=kirovohrad,ua&units=imperial&appid=25bc90a1196e6f153eece0bc0b0fc9eb\n",
      "Now retrieving City #49: sobolevo, ru\n",
      "http://api.openweathermap.org/data/2.5/weather?q=sobolevo,ru&units=imperial&appid=25bc90a1196e6f153eece0bc0b0fc9eb\n",
      "Now retrieving City #50: karaul, ru\n",
      "http://api.openweathermap.org/data/2.5/weather?q=karaul,ru&units=imperial&appid=25bc90a1196e6f153eece0bc0b0fc9eb\n",
      "Error with city data. Skipping\n",
      "Now retrieving City #51: ponta delgada, pt\n",
      "http://api.openweathermap.org/data/2.5/weather?q=ponta delgada,pt&units=imperial&appid=25bc90a1196e6f153eece0bc0b0fc9eb\n",
      "Now retrieving City #52: beloha, mg\n",
      "http://api.openweathermap.org/data/2.5/weather?q=beloha,mg&units=imperial&appid=25bc90a1196e6f153eece0bc0b0fc9eb\n"
     ]
    },
    {
     "name": "stdout",
     "output_type": "stream",
     "text": [
      "Now retrieving City #53: matelica, it\n",
      "http://api.openweathermap.org/data/2.5/weather?q=matelica,it&units=imperial&appid=25bc90a1196e6f153eece0bc0b0fc9eb\n",
      "Now retrieving City #54: steger, us\n",
      "http://api.openweathermap.org/data/2.5/weather?q=steger,us&units=imperial&appid=25bc90a1196e6f153eece0bc0b0fc9eb\n",
      "Now retrieving City #55: bluff, nz\n",
      "http://api.openweathermap.org/data/2.5/weather?q=bluff,nz&units=imperial&appid=25bc90a1196e6f153eece0bc0b0fc9eb\n",
      "Now retrieving City #56: tautira, pf\n",
      "http://api.openweathermap.org/data/2.5/weather?q=tautira,pf&units=imperial&appid=25bc90a1196e6f153eece0bc0b0fc9eb\n",
      "Now retrieving City #57: olafsvik, is\n",
      "http://api.openweathermap.org/data/2.5/weather?q=olafsvik,is&units=imperial&appid=25bc90a1196e6f153eece0bc0b0fc9eb\n",
      "Error with city data. Skipping\n",
      "Now retrieving City #58: port lincoln, au\n",
      "http://api.openweathermap.org/data/2.5/weather?q=port lincoln,au&units=imperial&appid=25bc90a1196e6f153eece0bc0b0fc9eb\n",
      "Now retrieving City #59: najran, sa\n",
      "http://api.openweathermap.org/data/2.5/weather?q=najran,sa&units=imperial&appid=25bc90a1196e6f153eece0bc0b0fc9eb\n"
     ]
    },
    {
     "ename": "NameError",
     "evalue": "name 'time' is not defined",
     "output_type": "error",
     "traceback": [
      "\u001b[1;31m---------------------------------------------------------------------------\u001b[0m",
      "\u001b[1;31mNameError\u001b[0m                                 Traceback (most recent call last)",
      "\u001b[1;32m<ipython-input-69-58940ed704fa>\u001b[0m in \u001b[0;36m<module>\u001b[1;34m()\u001b[0m\n\u001b[0;32m     32\u001b[0m     \u001b[1;31m# Pausing to limit pull requests\u001b[0m\u001b[1;33m\u001b[0m\u001b[1;33m\u001b[0m\u001b[0m\n\u001b[0;32m     33\u001b[0m     \u001b[1;32mif\u001b[0m \u001b[1;33m(\u001b[0m\u001b[0mindex\u001b[0m \u001b[1;33m+\u001b[0m \u001b[1;36m1\u001b[0m\u001b[1;33m)\u001b[0m \u001b[1;33m%\u001b[0m \u001b[1;36m60\u001b[0m \u001b[1;33m==\u001b[0m \u001b[1;36m0\u001b[0m\u001b[1;33m:\u001b[0m\u001b[1;33m\u001b[0m\u001b[0m\n\u001b[1;32m---> 34\u001b[1;33m         \u001b[0mrun_time\u001b[0m \u001b[1;33m=\u001b[0m \u001b[0mtime\u001b[0m\u001b[1;33m.\u001b[0m\u001b[0mtime\u001b[0m\u001b[1;33m(\u001b[0m\u001b[1;33m)\u001b[0m \u001b[1;33m-\u001b[0m \u001b[0mstart_time\u001b[0m\u001b[1;33m\u001b[0m\u001b[0m\n\u001b[0m\u001b[0;32m     35\u001b[0m         \u001b[0mtime\u001b[0m\u001b[1;33m.\u001b[0m\u001b[0msleep\u001b[0m\u001b[1;33m(\u001b[0m\u001b[1;36m60\u001b[0m \u001b[1;33m-\u001b[0m \u001b[0mrun_time\u001b[0m\u001b[1;33m)\u001b[0m\u001b[1;33m\u001b[0m\u001b[0m\n\u001b[0;32m     36\u001b[0m         \u001b[0mstart_time\u001b[0m \u001b[1;33m=\u001b[0m \u001b[0mtime\u001b[0m\u001b[1;33m.\u001b[0m\u001b[0mtime\u001b[0m\u001b[1;33m(\u001b[0m\u001b[1;33m)\u001b[0m\u001b[1;33m\u001b[0m\u001b[0m\n",
      "\u001b[1;31mNameError\u001b[0m: name 'time' is not defined"
     ]
    }
   ],
   "source": [
    "for index, row in cities_df.iterrows():\n",
    "    # Building target url\n",
    "    url = \"http://api.openweathermap.org/data/2.5/weather?q=%s,%s&units=imperial&appid=%s\" % (row['City Name'], row['Country Code'], api_key)\n",
    "   \n",
    "    # Printing to ensure loop is correct\n",
    "    print(\"Now retrieving City #\" + str(index) + \": \" + row['City Name'] + \", \" + row['Country Code'])\n",
    "    print(url)\n",
    "    \n",
    "    # Running request\n",
    "    weather_data = requests.get(url).json()\n",
    "    \n",
    "    try:\n",
    "        # Appending latitude and longitude to correct location\n",
    "        row['Latitude'] = weather_data['coord']['lat']\n",
    "        row['Longitude'] = weather_data['coord']['lon']\n",
    "    \n",
    "        # Appending temperature to correct location\n",
    "        row['Temperature (F)'] = weather_data['main']['temp']\n",
    "    \n",
    "        # Appending humidity to correct location\n",
    "        row['Humidity (%)'] = weather_data['main']['humidity']\n",
    "    \n",
    "        # Appending cloudiness to correct location\n",
    "        row['Cloudiness (%)'] = weather_data['clouds']['all']\n",
    "    \n",
    "        # Appending wind speed to correct location\n",
    "        row['Wind Speed (mph)'] = weather_data['wind']['speed']\n",
    "    except:\n",
    "        print(\"Error with city data. Skipping\")\n",
    "        continue\n",
    "        \n",
    "    # Pausing to limit pull requests\n",
    "    if (index + 1) % 60 == 0:\n",
    "        run_time = time.time() - start_time\n",
    "        time.sleep(60 - run_time)\n",
    "        start_time = time.time()\n",
    "    \n",
    "print(\"---------------------------------\")\n",
    "print(\"Data Retrieval Complete\")\n",
    "print(\"---------------------------------\")\n",
    "\n",
    "# Changing strings to floats\n",
    "columns = ['Latitude', 'Temperature (F)', 'Humidity (%)', 'Cloudiness (%)', 'Wind Speed (mph)']\n",
    "for column in columns:\n",
    "    cities_df[column] = pd.to_numeric(cities_df[column], errors='coerce')\n",
    "    \n"
   ]
  },
  {
   "cell_type": "code",
   "execution_count": 78,
   "metadata": {},
   "outputs": [
    {
     "data": {
      "text/html": [
       "<div>\n",
       "<style scoped>\n",
       "    .dataframe tbody tr th:only-of-type {\n",
       "        vertical-align: middle;\n",
       "    }\n",
       "\n",
       "    .dataframe tbody tr th {\n",
       "        vertical-align: top;\n",
       "    }\n",
       "\n",
       "    .dataframe thead th {\n",
       "        text-align: right;\n",
       "    }\n",
       "</style>\n",
       "<table border=\"1\" class=\"dataframe\">\n",
       "  <thead>\n",
       "    <tr style=\"text-align: right;\">\n",
       "      <th></th>\n",
       "      <th>City Name</th>\n",
       "      <th>Country Code</th>\n",
       "      <th>Latitude</th>\n",
       "      <th>Longitude</th>\n",
       "      <th>Temperature (F)</th>\n",
       "      <th>Humidity (%)</th>\n",
       "      <th>Cloudiness (%)</th>\n",
       "      <th>Wind Speed (mph)</th>\n",
       "    </tr>\n",
       "  </thead>\n",
       "  <tbody>\n",
       "    <tr>\n",
       "      <th>0</th>\n",
       "      <td>nikolskoye</td>\n",
       "      <td>ru</td>\n",
       "      <td>59.70</td>\n",
       "      <td>30.79</td>\n",
       "      <td>26.60</td>\n",
       "      <td>92.0</td>\n",
       "      <td>90.0</td>\n",
       "      <td>20.13</td>\n",
       "    </tr>\n",
       "    <tr>\n",
       "      <th>1</th>\n",
       "      <td>bredasdorp</td>\n",
       "      <td>za</td>\n",
       "      <td>-34.53</td>\n",
       "      <td>20.04</td>\n",
       "      <td>63.00</td>\n",
       "      <td>98.0</td>\n",
       "      <td>0.0</td>\n",
       "      <td>13.22</td>\n",
       "    </tr>\n",
       "    <tr>\n",
       "      <th>3</th>\n",
       "      <td>quatre cocos</td>\n",
       "      <td>mu</td>\n",
       "      <td>-20.21</td>\n",
       "      <td>57.76</td>\n",
       "      <td>84.20</td>\n",
       "      <td>70.0</td>\n",
       "      <td>40.0</td>\n",
       "      <td>11.41</td>\n",
       "    </tr>\n",
       "    <tr>\n",
       "      <th>4</th>\n",
       "      <td>ankang</td>\n",
       "      <td>cn</td>\n",
       "      <td>32.73</td>\n",
       "      <td>108.99</td>\n",
       "      <td>67.23</td>\n",
       "      <td>54.0</td>\n",
       "      <td>24.0</td>\n",
       "      <td>2.59</td>\n",
       "    </tr>\n",
       "    <tr>\n",
       "      <th>5</th>\n",
       "      <td>linfen</td>\n",
       "      <td>cn</td>\n",
       "      <td>36.09</td>\n",
       "      <td>111.52</td>\n",
       "      <td>58.68</td>\n",
       "      <td>51.0</td>\n",
       "      <td>92.0</td>\n",
       "      <td>5.39</td>\n",
       "    </tr>\n",
       "  </tbody>\n",
       "</table>\n",
       "</div>"
      ],
      "text/plain": [
       "      City Name Country Code  Latitude Longitude  Temperature (F)  \\\n",
       "0    nikolskoye           ru     59.70     30.79            26.60   \n",
       "1    bredasdorp           za    -34.53     20.04            63.00   \n",
       "3  quatre cocos           mu    -20.21     57.76            84.20   \n",
       "4        ankang           cn     32.73    108.99            67.23   \n",
       "5        linfen           cn     36.09    111.52            58.68   \n",
       "\n",
       "   Humidity (%)  Cloudiness (%)  Wind Speed (mph)  \n",
       "0          92.0            90.0             20.13  \n",
       "1          98.0             0.0             13.22  \n",
       "3          70.0            40.0             11.41  \n",
       "4          54.0            24.0              2.59  \n",
       "5          51.0            92.0              5.39  "
      ]
     },
     "execution_count": 78,
     "metadata": {},
     "output_type": "execute_result"
    }
   ],
   "source": [
    "# Changing strings to floats\n",
    "columns = ['Latitude', 'Temperature (F)', 'Humidity (%)', 'Cloudiness (%)', 'Wind Speed (mph)']\n",
    "for column in columns:\n",
    "    cities_df[column] = pd.to_numeric(cities_df[column], errors='coerce')\n",
    "    \n",
    "# Dropping NaN values\n",
    "cities_df.dropna(inplace=True)\n",
    "\n",
    "cities_df.head()"
   ]
  },
  {
   "cell_type": "code",
   "execution_count": 79,
   "metadata": {},
   "outputs": [],
   "source": [
    "# Exporting DataFrame\n",
    "cities_df.to_csv(\"weather_data.csv\")"
   ]
  },
  {
   "cell_type": "code",
   "execution_count": 80,
   "metadata": {},
   "outputs": [
    {
     "data": {
      "text/plain": [
       "dict_keys(['coord', 'weather', 'base', 'main', 'visibility', 'wind', 'clouds', 'dt', 'sys', 'id', 'name', 'cod'])"
      ]
     },
     "execution_count": 80,
     "metadata": {},
     "output_type": "execute_result"
    }
   ],
   "source": [
    "weather_data.keys()"
   ]
  },
  {
   "cell_type": "markdown",
   "metadata": {},
   "source": [
    "### Temp By Latitude"
   ]
  },
  {
   "cell_type": "code",
   "execution_count": 85,
   "metadata": {},
   "outputs": [
    {
     "data": {
      "image/png": "[encoded data removed]",
      "text/plain": [
       "<matplotlib.figure.Figure at 0x1e29bbf8d68>"
      ]
     },
     "metadata": {},
     "output_type": "display_data"
    }
   ],
   "source": [
    "x_axis = cities_df['Latitude']\n",
    "y_axis = cities_df['Temperature (F)']\n",
    "\n",
    "plt.scatter(x_axis, y_axis, c='navy', edgecolors='black')\n",
    "\n",
    "plt.title(\"Temp By Latitude\")\n",
    "plt.xlabel(\"Latitude\")\n",
    "plt.xlim(-60,90)\n",
    "plt.ylabel(\"Temperature (F)\")\n",
    "plt.ylim(-20,125)\n",
    "\n",
    "plt.savefig(\"TempByLatitude.png\")\n",
    "plt.show()"
   ]
  },
  {
   "cell_type": "markdown",
   "metadata": {},
   "source": [
    "### Latitude vs. Humidity"
   ]
  },
  {
   "cell_type": "code",
   "execution_count": 86,
   "metadata": {},
   "outputs": [
    {
     "data": {
      "image/png": "[encoded data removed]",
      "text/plain": [
       "<matplotlib.figure.Figure at 0x1e29bce6518>"
      ]
     },
     "metadata": {},
     "output_type": "display_data"
    }
   ],
   "source": [
    "# Axes values\n",
    "x_axis = cities_df['Latitude']\n",
    "y_axis = cities_df['Humidity (%)']\n",
    "\n",
    "plt.scatter(x_axis, y_axis, c='navy', edgecolors='black', alpha=1)\n",
    "\n",
    "plt.title(\"Latitude vs. Humidity\")\n",
    "plt.xlabel(\"Latitude\")\n",
    "plt.xlim(-60,90)\n",
    "plt.ylabel(\"Humidity (%)\")\n",
    "plt.ylim(-20,120)\n",
    "\n",
    "plt.savefig(\"LatitudeVsHumidity.png\")\n",
    "plt.show()"
   ]
  },
  {
   "cell_type": "markdown",
   "metadata": {},
   "source": [
    "### Latitude vs. Cloudiness"
   ]
  },
  {
   "cell_type": "code",
   "execution_count": 87,
   "metadata": {},
   "outputs": [
    {
     "data": {
      "image/png": "[encoded data removed]",
      "text/plain": [
       "<matplotlib.figure.Figure at 0x1e29bd38cc0>"
      ]
     },
     "metadata": {},
     "output_type": "display_data"
    }
   ],
   "source": [
    "x_axis = cities_df['Latitude']\n",
    "y_axis = cities_df['Cloudiness (%)']\n",
    "\n",
    "plt.scatter(x_axis, y_axis, c='navy', edgecolors='black', alpha=1)\n",
    "\n",
    "plt.title(\"Latitude vs. Cloudiness\")\n",
    "plt.xlabel(\"Latitude\")\n",
    "plt.xlim(-60,90)\n",
    "plt.ylabel(\"Cloudiness (%)\")\n",
    "plt.ylim(-20,120)\n",
    "\n",
    "plt.savefig(\"LatitudeVsCloudiness.png\")\n",
    "plt.show()"
   ]
  },
  {
   "cell_type": "markdown",
   "metadata": {},
   "source": [
    "### Latitude vs. Wind Speed"
   ]
  },
  {
   "cell_type": "code",
   "execution_count": 89,
   "metadata": {},
   "outputs": [
    {
     "data": {
      "image/png": "[encoded data removed]",
      "text/plain": [
       "<matplotlib.figure.Figure at 0x1e29bca8748>"
      ]
     },
     "metadata": {},
     "output_type": "display_data"
    }
   ],
   "source": [
    "x_axis = cities_df['Latitude']\n",
    "y_axis = cities_df['Wind Speed (mph)']\n",
    "\n",
    "plt.scatter(x_axis, y_axis, c='navy', edgecolors='black', alpha=1)\n",
    "\n",
    "plt.title(\"Latitude vs. Wind Speed\")\n",
    "plt.xlabel(\"Latitude\")\n",
    "plt.xlim(-60,90)\n",
    "plt.ylabel(\"Wind Speed (mph)\")\n",
    "plt.ylim(-5,40)\n",
    "\n",
    "plt.savefig(\"LatitudeVsWindSpeed.png\")\n",
    "plt.show()"
   ]
  }
 ],
 "metadata": {
  "kernelspec": {
   "display_name": "Python (PythonData)",
   "language": "python",
   "name": "pythondata"
  },
  "language_info": {
   "codemirror_mode": {
    "name": "ipython",
    "version": 3
   },
   "file_extension": ".py",
   "mimetype": "text/x-python",
   "name": "python",
   "nbconvert_exporter": "python",
   "pygments_lexer": "ipython3",
   "version": "3.6.4"
  }
 },
 "nbformat": 4,
 "nbformat_minor": 2
}
